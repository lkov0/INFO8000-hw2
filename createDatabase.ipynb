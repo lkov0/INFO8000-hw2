{
 "cells": [
  {
   "cell_type": "code",
   "execution_count": 1,
   "metadata": {},
   "outputs": [],
   "source": [
    "import sqlite3"
   ]
  },
  {
   "cell_type": "code",
   "execution_count": null,
   "metadata": {},
   "outputs": [],
   "source": [
    "# create db connection\n",
    "conn = sqlite3.connect(\"sampleDB.db\")\n",
    "\n",
    "try:\n",
    "    #instantiate db\n",
    "    conn.execute('''\n",
    "    CREATE TABLE sample (id INT, date TEXT, sequencer_id TEXT, tissue TEXT, species TEXT, seed_id INT, collection_location TEXT, experiment TEXT, data_size INT, PRIMARY KEY ('id'));\n",
    "    CREATE TABLE genotype (seed_id INT, species TEXT, genotype TEXT, seeds_left INT, \n",
    "        FOREIGN KEY ('seed_id')\n",
    "        REFERENCES sample ('seed_id'));\n",
    "    CREATE TABLE location (location_id TEXT, longitude NUMERIC, latitude NUMERIC,\n",
    "        FOREIGN KEY ('location_id')\n",
    "        REFERENCES sample ('collection_location'));\n",
    "    CREATE TABLE sequencer (machine_id TEXT, type TEXT, year INT,\n",
    "        FOREIGN KEY ('machine_id')\n",
    "        REFERENCES sample ('sequencer_id'));\n",
    "    CREATE TABLE experiment (experiment_name TEXT, grant_id INT, cost NUMERIC, available_funds NUMERIC,\n",
    "        FOREIGN KEY ('experiment_name')\n",
    "        REFERENCES sample ('experiment'));\n",
    "    CREATE TABLE grant (grant_id INT, pi TEXT, available_funds NUMERIC, funding_agency TEXT\n",
    "        FOREIGN KEY ('grant_id')\n",
    "        REFERENCES experiment ('grant_id'));\n",
    "    ''')\n",
    "    \n",
    "    #fill db\n",
    "    \n",
    "    \n",
    "    #select from db\n",
    "    curr = conn.execute('''\n",
    "    SELECT * from temp_table\n",
    "    ''');\n",
    "    rows = curr.fetchall()\n",
    "    df = pd.DataFrame(rows)\n",
    "    print(df)\n",
    "    conn.commit()\n",
    "except sqlite3.Error as e:\n",
    "    print(e)\n",
    "\n",
    "finally:\n",
    "    conn.close()\n"
   ]
  }
 ],
 "metadata": {
  "kernelspec": {
   "display_name": "Python 3",
   "language": "python",
   "name": "python3"
  },
  "language_info": {
   "codemirror_mode": {
    "name": "ipython",
    "version": 3
   },
   "file_extension": ".py",
   "mimetype": "text/x-python",
   "name": "python",
   "nbconvert_exporter": "python",
   "pygments_lexer": "ipython3",
   "version": "3.7.1"
  }
 },
 "nbformat": 4,
 "nbformat_minor": 2
}
